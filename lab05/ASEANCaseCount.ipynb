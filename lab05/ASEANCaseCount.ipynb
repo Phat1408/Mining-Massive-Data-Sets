{
  "nbformat": 4,
  "nbformat_minor": 0,
  "metadata": {
    "colab": {
      "provenance": [],
      "toc_visible": true
    },
    "kernelspec": {
      "name": "python3",
      "display_name": "Python 3"
    },
    "language_info": {
      "name": "python"
    }
  },
  "cells": [
    {
      "cell_type": "markdown",
      "source": [
        "# Installation and set up environment"
      ],
      "metadata": {
        "id": "H_mFNK_kxdiS"
      }
    },
    {
      "cell_type": "code",
      "execution_count": 1,
      "metadata": {
        "id": "Bf1sakWVr7Tq"
      },
      "outputs": [],
      "source": [
        "! mkdir lab05; mkdir lab05/input"
      ]
    },
    {
      "cell_type": "code",
      "source": [
        "!apt-get install openjdk-8-jdk-headless -qq > /dev/null\n",
        "!cp /content/drive/MyDrive/MMDS/spark-3.1.1-bin-hadoop3.2.tgz /content\n",
        "!tar xf spark-3.1.1-bin-hadoop3.2.tgz\n",
        "!pip install -q findspark"
      ],
      "metadata": {
        "id": "PqnXOnPjAUg7"
      },
      "execution_count": 2,
      "outputs": []
    },
    {
      "cell_type": "code",
      "source": [
        "import os\n",
        "os.environ[\"JAVA_HOME\"] = \"/usr/lib/jvm/java-8-openjdk-amd64\"\n",
        "os.environ[\"SPARK_HOME\"] = \"/content/spark-3.1.1-bin-hadoop3.2\""
      ],
      "metadata": {
        "id": "fLx_-Fe0BNyi"
      },
      "execution_count": 3,
      "outputs": []
    },
    {
      "cell_type": "code",
      "source": [
        "# SPARK_HOME = os.environ[\"SPARK_HOME\"]\n",
        "# PYTHONPATH = os.environ[\"PYTHONPATH\"]\n",
        "# PATH = os.environ[\"PATH\"]\n",
        "# os.environ[\"PYTHONPATH\"] = f\"{PYTHONPATH}:{SPARK_HOME}/python:{SPARK_HOME}\"+\n",
        "#                               \"/python/lib/py4j-0.10.9-src.zip\"\n",
        "# os.environ[\"PATH\"] = f\"{PATH}:{SPARK_HOME}/python\""
      ],
      "metadata": {
        "id": "hjK4QRPZYzLz"
      },
      "execution_count": 10,
      "outputs": []
    },
    {
      "cell_type": "code",
      "source": [
        "import findspark\n",
        "findspark.init()\n",
        "print(findspark.find())"
      ],
      "metadata": {
        "id": "pzxl3w6Ttjjq",
        "colab": {
          "base_uri": "https://localhost:8080/"
        },
        "outputId": "826f4420-747c-4d0f-e434-4aee190db9f7"
      },
      "execution_count": 4,
      "outputs": [
        {
          "output_type": "stream",
          "name": "stdout",
          "text": [
            "/content/spark-3.1.1-bin-hadoop3.2\n"
          ]
        }
      ]
    },
    {
      "cell_type": "code",
      "source": [
        "from pyspark.sql import SparkSession\n",
        "from pyspark.sql import functions as F\n",
        "from pyspark.sql.window import Window\n",
        "from pyspark.sql.types import *"
      ],
      "metadata": {
        "id": "bJ65FWH1LCzW"
      },
      "execution_count": 11,
      "outputs": []
    },
    {
      "cell_type": "code",
      "source": [
        "spark = SparkSession.builder.appName(\"First Spark\").getOrCreate()"
      ],
      "metadata": {
        "id": "a2FI2WJHLK-9"
      },
      "execution_count": 12,
      "outputs": []
    },
    {
      "cell_type": "code",
      "source": [
        "df = spark.read.csv(\"lab05/input/WHO-COVID-19-20210601-213841.tsv\",\n",
        "                    sep=\"\\t\", header=True)"
      ],
      "metadata": {
        "id": "GRQmfiwBGILW"
      },
      "execution_count": 13,
      "outputs": []
    },
    {
      "cell_type": "markdown",
      "source": [
        "# Finding ASEAN Cases"
      ],
      "metadata": {
        "id": "6858rtpMxVVZ"
      }
    },
    {
      "cell_type": "code",
      "source": [
        "keyRegion = \"South-East Asia\"\n",
        "# Only filter the Cases ... cells that Region == keyRegion and cast it\n",
        "# to decimal\n",
        "\n",
        "asian = df.filter(df[\"WHO Region\"] == keyRegion) \\\n",
        "    .select(\n",
        "        \"Name\",\n",
        "        F.regexp_replace(df[\"Cases - cumulative total\"], \",\", \"\") \\\n",
        "        .cast(DecimalType(15, 3)) \\\n",
        "        .alias(\"Cumulative Cases of Asian\")\n",
        "    )"
      ],
      "metadata": {
        "id": "ebRZTjA9WkDp"
      },
      "execution_count": 16,
      "outputs": []
    },
    {
      "cell_type": "markdown",
      "source": [
        "## Sum of cumulative total cases among ASEAN"
      ],
      "metadata": {
        "id": "RHwthLQev9My"
      }
    },
    {
      "cell_type": "code",
      "source": [
        "asian.agg(F.sum(asian[\"Cumulative Cases of Asian\"]) \\\n",
        "          .alias(\"Sum of cumulative total cases among ASEAN\")) \\\n",
        "          .show()"
      ],
      "metadata": {
        "colab": {
          "base_uri": "https://localhost:8080/"
        },
        "id": "_zHerf3ElAL2",
        "outputId": "ca635d61-3ea4-4373-9782-a07cd70a69dd"
      },
      "execution_count": 35,
      "outputs": [
        {
          "output_type": "stream",
          "name": "stdout",
          "text": [
            "+------------------------------------------+\n",
            "|Sum of cumulative total cases among ASEAN |\n",
            "+------------------------------------------+\n",
            "|                              31923614.000|\n",
            "+------------------------------------------+\n",
            "\n"
          ]
        }
      ]
    },
    {
      "cell_type": "markdown",
      "source": [
        "## Maximum number of cumulative total cases among ASEAN"
      ],
      "metadata": {
        "id": "TSRWtSHBlB5u"
      }
    },
    {
      "cell_type": "code",
      "source": [
        "# Find min cumulation -> join to Asian with \"Cumlat...\" -> select \"Name\"\n",
        "asian.agg(F.max(asian[\"Cumulative Cases of Asian\"]) \\\n",
        "          .alias(\"Cumulative Cases of Asian\")) \\\n",
        "          .join(asian, \"Cumulative Cases of Asian\") \\\n",
        "          .select(asian[\"Name\"] \\\n",
        "                .alias(\"Maximum number of cumulative total cases among ASEAN\")) \\\n",
        "          .show(truncate=False)"
      ],
      "metadata": {
        "colab": {
          "base_uri": "https://localhost:8080/"
        },
        "id": "gj5yT08Ne-Rh",
        "outputId": "1f7fdaa1-7647-452f-88fc-bc49967632ed"
      },
      "execution_count": 34,
      "outputs": [
        {
          "output_type": "stream",
          "name": "stdout",
          "text": [
            "+----------------------------------------------------+\n",
            "|Maximum number of cumulative total cases among ASEAN|\n",
            "+----------------------------------------------------+\n",
            "|India                                               |\n",
            "+----------------------------------------------------+\n",
            "\n"
          ]
        }
      ]
    },
    {
      "cell_type": "markdown",
      "source": [
        "## Top 3 countries with the lowest number of cumulative cases among ASEAN"
      ],
      "metadata": {
        "id": "4D6sGht1xC3L"
      }
    },
    {
      "cell_type": "code",
      "source": [
        "window = Window.orderBy(F.asc(\"Cumulative Cases of Asian\"))\n",
        "ranked_asian = asian.withColumn(\"rank\", F.rank().over(window))\n",
        "ranked_asian.filter(ranked_asian[\"rank\"] <= 3).show(truncate=False)"
      ],
      "metadata": {
        "id": "mXTc1znOLw0r",
        "colab": {
          "base_uri": "https://localhost:8080/"
        },
        "outputId": "8d564346-ca0d-40ca-a84a-3ab3211bae00"
      },
      "execution_count": 37,
      "outputs": [
        {
          "output_type": "stream",
          "name": "stdout",
          "text": [
            "+-------------------------------------+-------------------------+----+\n",
            "|Name                                 |Cumulative Cases of Asian|rank|\n",
            "+-------------------------------------+-------------------------+----+\n",
            "|Democratic People's Republic of Korea|0.000                    |1   |\n",
            "|Bhutan                               |1620.000                 |2   |\n",
            "|Timor-Leste                          |6994.000                 |3   |\n",
            "+-------------------------------------+-------------------------+----+\n",
            "\n"
          ]
        }
      ]
    }
  ]
}